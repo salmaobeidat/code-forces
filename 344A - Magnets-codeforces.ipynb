{
 "cells": [
  {
   "cell_type": "code",
   "execution_count": null,
   "id": "623167fd",
   "metadata": {},
   "outputs": [],
   "source": [
    "n=int(input())\n",
    "s=[]\n",
    "if(1<=n<=pow(10,5)):\n",
    "    counter=0\n",
    "    for i in range(n):\n",
    "        x=input()\n",
    "        s.append(x)\n",
    "    for j in range(len(s)-1):\n",
    "        if(s[j]!=s[j+1]):\n",
    "            counter+=1\n",
    "    print(counter+1)"
   ]
  },
  {
   "cell_type": "code",
   "execution_count": null,
   "id": "bdb45fec",
   "metadata": {},
   "outputs": [],
   "source": []
  }
 ],
 "metadata": {
  "kernelspec": {
   "display_name": "Python 3 (ipykernel)",
   "language": "python",
   "name": "python3"
  },
  "language_info": {
   "codemirror_mode": {
    "name": "ipython",
    "version": 3
   },
   "file_extension": ".py",
   "mimetype": "text/x-python",
   "name": "python",
   "nbconvert_exporter": "python",
   "pygments_lexer": "ipython3",
   "version": "3.9.12"
  }
 },
 "nbformat": 4,
 "nbformat_minor": 5
}
